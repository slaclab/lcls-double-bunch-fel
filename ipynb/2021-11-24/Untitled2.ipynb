{
 "cells": [
  {
   "cell_type": "code",
   "execution_count": 1,
   "id": "c2c63d7e-3dfa-4173-9d4c-3cf40441129d",
   "metadata": {},
   "outputs": [],
   "source": [
    "# Make csv of the short and long cable at 2.48 kV\n",
    "\n",
    "import h5py\n",
    "import csv\n",
    "\n",
    "short_cable_max = h5py.File('./shortcable/2021-11-24-13-17-48')\n",
    "long_cable_max = h5py.File('./longcable/2021-11-24-13-44-03')\n",
    "\n",
    "with open('pulses-short-long.csv', 'w') as csvfile:\n",
    "    writer = csv.writer(csvfile)\n",
    "    \n",
    "    rows = []\n",
    "    \n",
    "    header = []\n",
    "    \n",
    "    for i in range(0, 1):\n",
    "        header.append(f'short cable 2.48 kV x {i}')\n",
    "        header.append(f'short cable 2.48 kV y {i}')\n",
    "        header.append(f'long cable 2.48 kV x {i}')\n",
    "        header.append(f'long cable 2.48 kV y {i}')\n",
    "        \n",
    "    writer.writerows([header])\n",
    "    \n",
    "    for i in range(0, 4000):\n",
    "        row = []\n",
    "        \n",
    "        for j in range (0, 1):\n",
    "            row.append(short_cable_max['pulserscope_traces_x'][j][i])\n",
    "            row.append(short_cable_max['pulserscope_traces_y'][j][i])\n",
    "            row.append(long_cable_max['pulserscope_traces_x'][j][i])\n",
    "            row.append(long_cable_max['pulserscope_traces_y'][j][i])\n",
    "            \n",
    "        writer.writerows([row])\n",
    "    "
   ]
  },
  {
   "cell_type": "code",
   "execution_count": null,
   "id": "763f047d-0c27-498e-a321-1b2f42925624",
   "metadata": {},
   "outputs": [],
   "source": []
  }
 ],
 "metadata": {
  "kernelspec": {
   "display_name": "Python 3 (ipykernel)",
   "language": "python",
   "name": "python3"
  },
  "language_info": {
   "codemirror_mode": {
    "name": "ipython",
    "version": 3
   },
   "file_extension": ".py",
   "mimetype": "text/x-python",
   "name": "python",
   "nbconvert_exporter": "python",
   "pygments_lexer": "ipython3",
   "version": "3.9.7"
  }
 },
 "nbformat": 4,
 "nbformat_minor": 5
}
