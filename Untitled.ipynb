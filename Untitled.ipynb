{
 "cells": [
  {
   "cell_type": "raw",
   "id": "3bc18e65-c9f1-46e7-ad0a-fd694e924027",
   "metadata": {},
   "source": [
    "Case with 1.4 but no trigger: OK\n",
    "Case with trigger but 1.4 is disconnected: NOT OK. No DC signal though, which is good.\n",
    "1.png\n",
    "Case with trigger without 1.4 and without 1.4 configured: O(1ns)\n",
    "Turning on 1.4 source with cable connected: still running, but turning on the waveform doens't do anything.\n",
    "2588D,000002210220,1.119.0\n",
    ":SYST:iNF:MODel? P2588D\n",
    ":INST:CHAN? MAX 8\n",
    ":TRACe:SELect:SEGMent? MAX 65536\n",
    "*CLS error 0, no error\n",
    ":TRACe:FREE? 4286570496\n",
    ":INST:CHAN 1 error 0, no error\n",
    ":TRAC:DEF 1, 4096 error 0, no error\n",
    ":TRAC:SEL 1 error 0, no error\n",
    ":SOUR:FUNC:MODE:SEGM 1 error 0, no error\n",
    ":FREQ:SOUR EXT error 212, validation failure\n",
    ":INIT:CONT OFF error 0, no error\n",
    ":TRIG:SOUR:ENAB TRG1 error 0, no error\n",
    ":TRIG:SEL TRG1 error 0, no error\n",
    ":TRIG:LTJ ON error 0, no error\n",
    ":TRIG:LEV -0.5 error 0, no error\n",
    ":TRIG:COUN 1 error 0, no error\n",
    ":TRIG:IDLE DC error 0, no error\n",
    ":TRIG:STAT ON error 0, no error\n",
    ":OUTP ON error 0, no error\n",
    "But still no waveform.\n",
    "Power cycle.\n",
    "Turning on waveform with 1.4 configured, works. What's the jitter? 100ps.\n",
    "Switch to 1.904, getting errors."
   ]
  }
 ],
 "metadata": {
  "kernelspec": {
   "display_name": "Python 3",
   "language": "python",
   "name": "python3"
  },
  "language_info": {
   "codemirror_mode": {
    "name": "ipython",
    "version": 3
   },
   "file_extension": ".py",
   "mimetype": "text/x-python",
   "name": "python",
   "nbconvert_exporter": "python",
   "pygments_lexer": "ipython3",
   "version": "3.8.8"
  }
 },
 "nbformat": 4,
 "nbformat_minor": 5
}
